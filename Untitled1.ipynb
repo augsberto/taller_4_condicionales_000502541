{
  "nbformat": 4,
  "nbformat_minor": 0,
  "metadata": {
    "colab": {
      "provenance": [],
      "authorship_tag": "ABX9TyMFrICEpWJabdC4bQJ5KaMt",
      "include_colab_link": true
    },
    "kernelspec": {
      "name": "python3",
      "display_name": "Python 3"
    },
    "language_info": {
      "name": "python"
    }
  },
  "cells": [
    {
      "cell_type": "markdown",
      "metadata": {
        "id": "view-in-github",
        "colab_type": "text"
      },
      "source": [
        "<a href=\"https://colab.research.google.com/github/augsberto/taller_4_condicionales_000502541/blob/main/Untitled1.ipynb\" target=\"_parent\"><img src=\"https://colab.research.google.com/assets/colab-badge.svg\" alt=\"Open In Colab\"/></a>"
      ]
    },
    {
      "cell_type": "markdown",
      "source": [
        "ejercicio # 1"
      ],
      "metadata": {
        "id": "fkP7k2Feddoz"
      }
    },
    {
      "cell_type": "code",
      "execution_count": 11,
      "metadata": {
        "id": "qdHfnFmOc31S",
        "colab": {
          "base_uri": "https://localhost:8080/"
        },
        "outputId": "27c222c4-4304-4d70-dd0d-88bb4a967428"
      },
      "outputs": [
        {
          "output_type": "stream",
          "name": "stdout",
          "text": [
            "ingrese el resultado 4.9\n",
            "aprobo la materia \n"
          ]
        }
      ],
      "source": [
        "resultado = float(input(\"ingrese el resultado \"))\n",
        "\n",
        "if resultado >= 3.0:\n",
        "  print(\"aprobo la materia \")\n",
        "else:\n",
        "  print(\"reprobo la materia \")"
      ]
    },
    {
      "cell_type": "markdown",
      "source": [
        "ejercicio # 2"
      ],
      "metadata": {
        "id": "bJvOTCmufe3R"
      }
    },
    {
      "cell_type": "code",
      "source": [
        "Numero = float(input(\"ingrse el numero \"))\n",
        "if Numero > 0:\n",
        "  print(\"positivo \")\n",
        "if Numero == 0:\n",
        "  print(\"cero\")\n",
        "if Numero < 0:\n",
        "  print(\"negativo \")\n"
      ],
      "metadata": {
        "colab": {
          "base_uri": "https://localhost:8080/"
        },
        "id": "ohJv-3Urfd5N",
        "outputId": "e015329c-9d6b-4185-b2f8-f356eece3585"
      },
      "execution_count": 10,
      "outputs": [
        {
          "output_type": "stream",
          "name": "stdout",
          "text": [
            "ingrse el numero 2\n",
            "positivo \n"
          ]
        }
      ]
    },
    {
      "cell_type": "markdown",
      "source": [
        "ejercicio # 3"
      ],
      "metadata": {
        "id": "EFrba6gjheDT"
      }
    },
    {
      "cell_type": "code",
      "source": [
        "C = input(\"ingrese la clave \")\n",
        "if C == \"puchi2004\":\n",
        "  print(\"clave correcta \")\n",
        "else:\n",
        "  print(\"clave incorrecta \")\n"
      ],
      "metadata": {
        "colab": {
          "base_uri": "https://localhost:8080/"
        },
        "id": "nTyUtTIBhdNM",
        "outputId": "ac48d3c8-992c-400a-ba2e-a1f50989032f"
      },
      "execution_count": 9,
      "outputs": [
        {
          "output_type": "stream",
          "name": "stdout",
          "text": [
            "ingrese la clave puchi2004\n",
            "clave correcta \n"
          ]
        }
      ]
    },
    {
      "cell_type": "markdown",
      "source": [
        "ejercico # 4"
      ],
      "metadata": {
        "id": "sAi8Oizgi9FY"
      }
    },
    {
      "cell_type": "code",
      "source": [
        "D = float(input(\"ingrse el digito \"))\n",
        "if D % 4 == 0:\n",
        "  print(\"es par \")\n",
        "else:\n",
        "  print(\"no es par \")"
      ],
      "metadata": {
        "colab": {
          "base_uri": "https://localhost:8080/"
        },
        "id": "d7OTWmx9i8X0",
        "outputId": "8c2cf071-6cc7-429b-ccbc-8d12a86b9b81"
      },
      "execution_count": 12,
      "outputs": [
        {
          "output_type": "stream",
          "name": "stdout",
          "text": [
            "ingrse el digito 5\n",
            "no es par \n"
          ]
        }
      ]
    },
    {
      "cell_type": "markdown",
      "source": [
        "ejercico # 6"
      ],
      "metadata": {
        "id": "nCjjCEnMjxYx"
      }
    },
    {
      "cell_type": "code",
      "source": [
        "Años = float(input(\"ingrese los años \"))\n",
        "if Años >= 0 and Años <= 17:\n",
        " print(\"adolecente \")\n",
        "if Años >= 19 and Años <=20:\n",
        "  print(\"adulto \")\n",
        "if Años >= 10 and Años <=12:\n",
        "  print(\"niño \")\n",
        "if Años >= 80:\n",
        "  print(\"anciano \")\n",
        "\n"
      ],
      "metadata": {
        "colab": {
          "base_uri": "https://localhost:8080/"
        },
        "id": "40upSf-gjxDT",
        "outputId": "ab62dea3-28c1-45d1-b537-8c6794aba30a"
      },
      "execution_count": 17,
      "outputs": [
        {
          "output_type": "stream",
          "name": "stdout",
          "text": [
            "ingrese los años 17\n",
            "adolecente \n"
          ]
        }
      ]
    }
  ]
}